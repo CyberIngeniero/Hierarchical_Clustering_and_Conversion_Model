{
  "nbformat": 4,
  "nbformat_minor": 0,
  "metadata": {
    "colab": {
      "name": "Clustering.ipynb",
      "provenance": [],
      "collapsed_sections": [],
      "include_colab_link": true
    },
    "kernelspec": {
      "name": "python3",
      "display_name": "Python 3"
    },
    "accelerator": "GPU"
  },
  "cells": [
    {
      "cell_type": "markdown",
      "metadata": {
        "id": "view-in-github",
        "colab_type": "text"
      },
      "source": [
        "<a href=\"https://colab.research.google.com/github/CyberIngeniero/Proyecto_Clustering_HDI/blob/master/Clustering.ipynb\" target=\"_parent\"><img src=\"https://colab.research.google.com/assets/colab-badge.svg\" alt=\"Open In Colab\"/></a>"
      ]
    },
    {
      "cell_type": "markdown",
      "metadata": {
        "id": "QTEiLaIgPlNi",
        "colab_type": "text"
      },
      "source": [
        "# Nuevos Clusters de Vehículos"
      ]
    },
    {
      "cell_type": "markdown",
      "metadata": {
        "id": "piH0ph22b4wl",
        "colab_type": "text"
      },
      "source": [
        "# Librerias"
      ]
    },
    {
      "cell_type": "code",
      "metadata": {
        "id": "wPsIqE63VU_0",
        "colab_type": "code",
        "colab": {}
      },
      "source": [
        "# Librerias\n",
        "import os\n",
        "import shutil\n",
        "\n",
        "from google.colab import files    #files.upload()\n",
        "from google.colab import drive    #drive.mount('/gdrive')\n",
        "\n",
        "import pandas as pd\n",
        "import numpy as np\n"
      ],
      "execution_count": null,
      "outputs": []
    },
    {
      "cell_type": "markdown",
      "metadata": {
        "id": "68y08fq5eXEW",
        "colab_type": "text"
      },
      "source": [
        "# Carga y Lectura de Registros"
      ]
    },
    {
      "cell_type": "code",
      "metadata": {
        "id": "nHTUIXb1qlIN",
        "colab_type": "code",
        "colab": {}
      },
      "source": [
        "# Se crea directorio de trabajo\n",
        "path = \"/tmp/data_clusters\"\n",
        "os.mkdir(path)"
      ],
      "execution_count": null,
      "outputs": []
    },
    {
      "cell_type": "code",
      "metadata": {
        "id": "DweCQYJ4qW1D",
        "colab_type": "code",
        "colab": {
          "base_uri": "https://localhost:8080/",
          "height": 34
        },
        "outputId": "60337c58-3d26-476c-837a-2c5091c7648e"
      },
      "source": [
        "# Montando Drive\n",
        "drive.mount('/gdrive')"
      ],
      "execution_count": null,
      "outputs": [
        {
          "output_type": "stream",
          "text": [
            "Drive already mounted at /gdrive; to attempt to forcibly remount, call drive.mount(\"/gdrive\", force_remount=True).\n"
          ],
          "name": "stdout"
        }
      ]
    },
    {
      "cell_type": "code",
      "metadata": {
        "id": "fVZtB5TQqiOp",
        "colab_type": "code",
        "colab": {}
      },
      "source": [
        "# Copia del archivo a directorio local\n",
        "!cp  /gdrive/My\\ Drive/Proyecto_Nuevos_Clusters/Base_Clusters.csv /tmp/data_clusters"
      ],
      "execution_count": null,
      "outputs": []
    },
    {
      "cell_type": "code",
      "metadata": {
        "id": "59ZhyGW6qana",
        "colab_type": "code",
        "colab": {}
      },
      "source": [
        "# Moviendo datos a entorno de trabajo\n",
        "os.rename(\"/tmp/data_clusters/Base_Clusters.csv\", \"/tmp/data_clusters/Base_Clusters_MM.csv\")"
      ],
      "execution_count": null,
      "outputs": []
    },
    {
      "cell_type": "code",
      "metadata": {
        "id": "dYWjTAD6qa_u",
        "colab_type": "code",
        "colab": {
          "base_uri": "https://localhost:8080/",
          "height": 34
        },
        "outputId": "ee868ee3-1f50-4dee-8d8a-86331ab55cc3"
      },
      "source": [
        "# Cambiando a directorio de trabajo\n",
        "os.chdir(path)\n",
        "print(os.getcwd())"
      ],
      "execution_count": null,
      "outputs": [
        {
          "output_type": "stream",
          "text": [
            "/tmp/data_clusters\n"
          ],
          "name": "stdout"
        }
      ]
    },
    {
      "cell_type": "code",
      "metadata": {
        "id": "Di8uZ0TWpJrb",
        "colab_type": "code",
        "colab": {}
      },
      "source": [
        "df = pd.read_csv(\"Base_Clusters_MM.csv\")\n",
        "df.columns = df.columns.str.lower()\n",
        "df = df.rename(columns = {'sum([cantidad convertida final])':'cantidad_polizas'})"
      ],
      "execution_count": null,
      "outputs": []
    },
    {
      "cell_type": "code",
      "metadata": {
        "id": "PJQ5Aj2vpJt2",
        "colab_type": "code",
        "colab": {
          "base_uri": "https://localhost:8080/",
          "height": 479
        },
        "outputId": "e2344262-ca5f-429e-974d-265716ff3b76"
      },
      "source": [
        "df.head()"
      ],
      "execution_count": null,
      "outputs": [
        {
          "output_type": "execute_result",
          "data": {
            "text/html": [
              "<div>\n",
              "<style scoped>\n",
              "    .dataframe tbody tr th:only-of-type {\n",
              "        vertical-align: middle;\n",
              "    }\n",
              "\n",
              "    .dataframe tbody tr th {\n",
              "        vertical-align: top;\n",
              "    }\n",
              "\n",
              "    .dataframe thead th {\n",
              "        text-align: right;\n",
              "    }\n",
              "</style>\n",
              "<table border=\"1\" class=\"dataframe\">\n",
              "  <thead>\n",
              "    <tr style=\"text-align: right;\">\n",
              "      <th></th>\n",
              "      <th>antiguedad_veh</th>\n",
              "      <th>prima_neta_deducible_anualizada</th>\n",
              "      <th>sisgen_usar</th>\n",
              "      <th>mod_tasacion_fiscal</th>\n",
              "      <th>precot_veh_modelo_id</th>\n",
              "      <th>canal_producto</th>\n",
              "      <th>precot_veh_tipo_id</th>\n",
              "      <th>precot_veh_tipo</th>\n",
              "      <th>precot_veh_uso</th>\n",
              "      <th>precot_veh_uso_id</th>\n",
              "      <th>numero_semana</th>\n",
              "      <th>edad</th>\n",
              "      <th>cotizacion</th>\n",
              "      <th>cantidad_polizas</th>\n",
              "    </tr>\n",
              "  </thead>\n",
              "  <tbody>\n",
              "    <tr>\n",
              "      <th>0</th>\n",
              "      <td>0</td>\n",
              "      <td>0,2</td>\n",
              "      <td>0,85</td>\n",
              "      <td>10</td>\n",
              "      <td>260013</td>\n",
              "      <td>DEALERS</td>\n",
              "      <td>1</td>\n",
              "      <td>AUTOMOVIL</td>\n",
              "      <td>Particular (Vehículos de uso personal y/o fami...</td>\n",
              "      <td>1</td>\n",
              "      <td>4</td>\n",
              "      <td>65</td>\n",
              "      <td>1</td>\n",
              "      <td>0</td>\n",
              "    </tr>\n",
              "    <tr>\n",
              "      <th>1</th>\n",
              "      <td>0</td>\n",
              "      <td>0,24</td>\n",
              "      <td>0,85</td>\n",
              "      <td>32</td>\n",
              "      <td>2951001</td>\n",
              "      <td>DEALERS</td>\n",
              "      <td>1</td>\n",
              "      <td>AUTOMOVIL</td>\n",
              "      <td>Particular (Vehículos de uso personal y/o fami...</td>\n",
              "      <td>1</td>\n",
              "      <td>2</td>\n",
              "      <td>53</td>\n",
              "      <td>1</td>\n",
              "      <td>0</td>\n",
              "    </tr>\n",
              "    <tr>\n",
              "      <th>2</th>\n",
              "      <td>0</td>\n",
              "      <td>0,27</td>\n",
              "      <td>0,85</td>\n",
              "      <td>39</td>\n",
              "      <td>2951006</td>\n",
              "      <td>DEALERS</td>\n",
              "      <td>1</td>\n",
              "      <td>AUTOMOVIL</td>\n",
              "      <td>Particular (Vehículos de uso personal y/o fami...</td>\n",
              "      <td>1</td>\n",
              "      <td>4</td>\n",
              "      <td>26</td>\n",
              "      <td>1</td>\n",
              "      <td>0</td>\n",
              "    </tr>\n",
              "    <tr>\n",
              "      <th>3</th>\n",
              "      <td>0</td>\n",
              "      <td>0,31</td>\n",
              "      <td>1,1</td>\n",
              "      <td>-</td>\n",
              "      <td>2951054</td>\n",
              "      <td>DEALERS</td>\n",
              "      <td>1</td>\n",
              "      <td>AUTOMOVIL</td>\n",
              "      <td>Particular (Vehículos de uso personal y/o fami...</td>\n",
              "      <td>1</td>\n",
              "      <td>4</td>\n",
              "      <td>39</td>\n",
              "      <td>1</td>\n",
              "      <td>0</td>\n",
              "    </tr>\n",
              "    <tr>\n",
              "      <th>4</th>\n",
              "      <td>0</td>\n",
              "      <td>0,99</td>\n",
              "      <td>0,85</td>\n",
              "      <td>-</td>\n",
              "      <td>521022</td>\n",
              "      <td>DIRECTO</td>\n",
              "      <td>6</td>\n",
              "      <td>STATION WAGON</td>\n",
              "      <td>Particular (Vehículos de uso personal y/o fami...</td>\n",
              "      <td>1</td>\n",
              "      <td>3</td>\n",
              "      <td>27</td>\n",
              "      <td>1</td>\n",
              "      <td>0</td>\n",
              "    </tr>\n",
              "  </tbody>\n",
              "</table>\n",
              "</div>"
            ],
            "text/plain": [
              "   antiguedad_veh prima_neta_deducible_anualizada  ... cotizacion cantidad_polizas\n",
              "0               0                             0,2  ...          1                0\n",
              "1               0                            0,24  ...          1                0\n",
              "2               0                            0,27  ...          1                0\n",
              "3               0                            0,31  ...          1                0\n",
              "4               0                            0,99  ...          1                0\n",
              "\n",
              "[5 rows x 14 columns]"
            ]
          },
          "metadata": {
            "tags": []
          },
          "execution_count": 12
        }
      ]
    },
    {
      "cell_type": "markdown",
      "metadata": {
        "id": "UGLLLgajvph3",
        "colab_type": "text"
      },
      "source": [
        "# Data Treatment"
      ]
    },
    {
      "cell_type": "code",
      "metadata": {
        "id": "tOLSqEdvpJye",
        "colab_type": "code",
        "colab": {
          "base_uri": "https://localhost:8080/",
          "height": 85
        },
        "outputId": "ac7221d4-aedb-4403-8c9c-1c848b8ffbb7"
      },
      "source": [
        "df['precot_veh_uso'].unique()"
      ],
      "execution_count": null,
      "outputs": [
        {
          "output_type": "execute_result",
          "data": {
            "text/plain": [
              "array(['Particular (Vehículos de uso personal y/o familiar destinado al transporte sin fines de lucro)',\n",
              "       'Vehículos de Reparto',\n",
              "       'Otros usos comerciales distintos de transporte de pasajero y/o carga',\n",
              "       'Transporte Pasajeros', 'Taxi Básico', 'Comercial'], dtype=object)"
            ]
          },
          "metadata": {
            "tags": []
          },
          "execution_count": 13
        }
      ]
    },
    {
      "cell_type": "code",
      "metadata": {
        "id": "rkzxKT6YjUGI",
        "colab_type": "code",
        "colab": {}
      },
      "source": [
        ""
      ],
      "execution_count": null,
      "outputs": []
    },
    {
      "cell_type": "code",
      "metadata": {
        "id": "d8dGkm0NVxxn",
        "colab_type": "code",
        "colab": {}
      },
      "source": [
        "\n"
      ],
      "execution_count": null,
      "outputs": []
    }
  ]
}